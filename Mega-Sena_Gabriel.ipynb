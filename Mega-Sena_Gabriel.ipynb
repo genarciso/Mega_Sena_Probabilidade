{
 "cells": [
  {
   "cell_type": "markdown",
   "metadata": {},
   "source": [
    "## Mega sena\n",
    "    A mega sena, atualmente, é uma das maiores modalidades de jogos de apostas, feito pela Caixa(Caixa Economica Federal do Brasil) no Brasil, no qual consiste em que os apostadores escolhem 6 números de 1 a 60. Então faz o sorteio e verifica quem acertou os 6 números, caso não haja ganhadores, o prêmio é acumulado para o próximo concurso(com excessão da Mega-Sena da virada, no qual o prêmio não pode ser acumulado), porém apostadores que acertarem 5 ou 4 números também ganham, uma certa quantia menor e em todos os casos o prêmio é dividido igualmente caso hajam mais de um ganhador. \n",
    "    O jogo foi lançado em 1996 e ja premiou cerca de 691 pessoas com a Sena, R$228.775 pessoas com a quina e R$14.744.770 com a quadra, desde seu sorteio à 31/12/2017. No qual, teve um rateio cerca de R$8.798.531.748,86 para a população ganhadora.\n",
    "    O maior prêmio já ganho até 31/12/2017 foi de R$ 205.329.753,89 por jogador, no concurso 1764 e teve apenas 1 ganhador em 25/11/2015 e o maior prêmio ja registrado foi de R$306.718.743,68 divididos para 17 pessoas em 31/12/2017. E durante o ano de 2017 teve cerca de 49 ganhadores.A média dos prêmios da sena foi de R$ 18.349.122,41.   "
   ]
  },
  {
   "cell_type": "code",
   "execution_count": 183,
   "metadata": {},
   "outputs": [
    {
     "name": "stderr",
     "output_type": "stream",
     "text": [
      "/home/gabriel/anaconda3/lib/python3.6/site-packages/pandas/plotting/_core.py:1716: UserWarning: Pandas doesn't allow columns to be created via a new attribute name - see https://pandas.pydata.org/pandas-docs/stable/indexing.html#attribute-access\n",
      "  series.name = label\n"
     ]
    },
    {
     "data": {
      "image/png": "[encoded data removed]",
      "text/plain": [
       "<matplotlib.figure.Figure at 0x7f955efd72b0>"
      ]
     },
     "metadata": {},
     "output_type": "display_data"
    }
   ],
   "source": [
    "#importação das bibliotecas necessárias\n",
    "%matplotlib inline\n",
    "import matplotlib.pyplot as plt\n",
    "\n",
    "# Variavel para colocar todos os sorteios de 2017 até recentemente\n",
    "concursos = data[data[\"Data Sorteio\"] > \"2017-01-01\"][\"Concurso\"]\n",
    "# Variavel para colocar todos os ganhadores de 2017 até recentemente\n",
    "ganhadores = data[data[\"Data Sorteio\"] > \"2017-01-01\"][\"Ganhadores_Sena\"]\n",
    "# Criação do gráfico de linha\n",
    "ax=data.plot(kind='line',x='Concurso',y=[\"Ganhadores_Sena\"],figsize=(8,8),\n",
    "                   title=\"Indice de Ganhadores do ano de 2017\",\n",
    "                   color=['red'], legend=False)\n",
    "ax.set_xlim(1891,2025)\n",
    "ax.set_ylim(0,20)\n",
    "ax.tick_params(bottom=\"off\", top=\"off\", left=\"off\", right=\"off\")"
   ]
  },
  {
   "cell_type": "code",
   "execution_count": 125,
   "metadata": {},
   "outputs": [],
   "source": [
    "#importação das bibliotecas necessárias\n",
    "import pandas as pd\n",
    "# arquivo com os dados da planilha excel\n",
    "dataset = pd.ExcelFile(\"basedados.xlsx\")\n",
    "data = dataset.parse(0)"
   ]
  },
  {
   "cell_type": "code",
   "execution_count": null,
   "metadata": {},
   "outputs": [],
   "source": [
    "# imprimir a soma de todos os ganhadores da sena \n",
    "print(data[\"Ganhadores_Sena\"].sum())\n",
    "# imprimir a soma de todos os ganhadores da quina\n",
    "print(data[\"Ganhadores_Quina\"].sum())\n",
    "# imprimir a soma de todos os ganhadores da quadra\n",
    "print(data[\"Ganhadores_Quadra\"].sum())"
   ]
  },
  {
   "cell_type": "code",
   "execution_count": null,
   "metadata": {},
   "outputs": [],
   "source": [
    "# soma de todos os prêmios da sena\n",
    "premio_total_sena = data[\"Rateio_Sena\"].sum()\n",
    "# soma de todos os prêmios da quina\n",
    "premio_total_quina = data[\"Rateio_Quina\"].sum()\n",
    "# soma de todos os prêmios da quadra\n",
    "premio_total_quadra = data[\"Rateio_Quadra\"].sum()\n",
    "# soma de todos os prêmios da Mega-Sena\n",
    "soma_premios = premio_total_quadra + premio_total_quina + premio_total_sena\n",
    "# imprimir a soma\n",
    "print(soma_premios)"
   ]
  },
  {
   "cell_type": "code",
   "execution_count": 129,
   "metadata": {},
   "outputs": [
    {
     "name": "stdout",
     "output_type": "stream",
     "text": [
      "205329753.89\n",
      "Concurso                            1764\n",
      "Data Sorteio         2015-11-25 00:00:00\n",
      "Dezena1                                6\n",
      "Dezena2                                7\n",
      "Dezena3                               41\n",
      "Dezena4                               39\n",
      "Dezena5                               29\n",
      "Dezena6                               55\n",
      "Arrecadacao_Total            4.01528e+08\n",
      "Ganhadores_Sena                        1\n",
      "Rateio_Sena                   2.0533e+08\n",
      "Ganhadores_Quina                     401\n",
      "Rateio_Quina                     58622.5\n",
      "Ganhadores_Quadra                  33850\n",
      "Rateio_Quadra                     992.09\n",
      "Acumulado                            NÃO\n",
      "Valor_Acumulado                        0\n",
      "Estimativa_Prêmio              100000000\n",
      "Name: 1763, dtype: object\n",
      "\n",
      "\n",
      "306718743.68\n",
      "Concurso                            2000\n",
      "Data Sorteio         2017-12-31 00:00:00\n",
      "Dezena1                                6\n",
      "Dezena2                               37\n",
      "Dezena3                               34\n",
      "Dezena4                               10\n",
      "Dezena5                                3\n",
      "Dezena6                               17\n",
      "Arrecadacao_Total            8.90947e+08\n",
      "Ganhadores_Sena                       17\n",
      "Rateio_Sena                  1.80423e+07\n",
      "Ganhadores_Quina                    4862\n",
      "Rateio_Quina                       10565\n",
      "Ganhadores_Quadra                 173428\n",
      "Rateio_Quadra                     423.12\n",
      "Acumulado                            NÃO\n",
      "Valor_Acumulado                        0\n",
      "Estimativa_Prêmio                2000000\n",
      "premio_maximo                3.06719e+08\n",
      "Name: 1999, dtype: object\n"
     ]
    }
   ],
   "source": [
    "# imprimindo o maior premio da sena\n",
    "print(data[\"Rateio_Sena\"].max())\n",
    "# dados do maior premio da sena\n",
    "print(data.iloc[data.Rateio_Sena.idxmax()])\n",
    "print(\"\\n\")\n",
    "# premio maximo, multiplicando o rateio * os ganhadores (prova)\n",
    "data[\"premio_maximo\"] = dados.Ganhadores_Sena * dados.Rateio_Sena\n",
    "# imprimindo o maior prêmio ja ganhado na sena\n",
    "print(data[\"premio_maximo\"].max())\n",
    "# mostrando os dados do maior prêmio ja ganho\n",
    "print(data.iloc[dados.premio_maximo.idxmax()])\n"
   ]
  },
  {
   "cell_type": "code",
   "execution_count": 93,
   "metadata": {},
   "outputs": [
    {
     "data": {
      "text/plain": [
       "18349122.41490566"
      ]
     },
     "execution_count": 93,
     "metadata": {},
     "output_type": "execute_result"
    }
   ],
   "source": [
    "# média de todos os prêmios ganhos com os valores não acumulados\n",
    "data.Rateio_Sena.sum()/data.Acumulado.value_counts().NÃO"
   ]
  },
  {
   "cell_type": "code",
   "execution_count": 147,
   "metadata": {},
   "outputs": [
    {
     "data": {
      "text/plain": [
       "49"
      ]
     },
     "execution_count": 147,
     "metadata": {},
     "output_type": "execute_result"
    }
   ],
   "source": [
    "# todos os concursos de 2017\n",
    "sorteios_2017 = data[data[\"Data Sorteio\"] > \"2017-01-01\"]\n",
    "# soma dos valores da sena distribuidos no ano de 2017\n",
    "sorteios_2017.Ganhadores_Sena.sum()\n"
   ]
  }
 ],
 "metadata": {
  "kernelspec": {
   "display_name": "Python 3",
   "language": "python",
   "name": "python3"
  },
  "language_info": {
   "codemirror_mode": {
    "name": "ipython",
    "version": 3
   },
   "file_extension": ".py",
   "mimetype": "text/x-python",
   "name": "python",
   "nbconvert_exporter": "python",
   "pygments_lexer": "ipython3",
   "version": "3.6.4"
  }
 },
 "nbformat": 4,
 "nbformat_minor": 2
}
